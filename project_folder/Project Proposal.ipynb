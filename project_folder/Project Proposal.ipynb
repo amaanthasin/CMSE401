{
 "cells": [
  {
   "cell_type": "markdown",
   "id": "bfba121c",
   "metadata": {},
   "source": [
    "# Project Proposal\n",
    "\n",
    "Amaan Thasin"
   ]
  },
  {
   "cell_type": "markdown",
   "id": "0febc0d8",
   "metadata": {},
   "source": [
    "\n",
    "### Abstract\n",
    "\n",
    "I chose this project because SQL databases are essential for handling large datasets, but queries can become slow as data grows. Optimizing query performance is crucial for faster data retrieval and better system efficiency. This project will focus on PostgreSQL and explore techniques like indexing, partitioning, and parallel execution to speed up queries. I will start by running baseline queries on a large dataset, then apply optimizations and compare the performance before and after. The goal is to measure improvements, identify the most effective techniques, and document best practices. By the end of the project, I will create a simple guide and SQL scripts to help others optimize their own databases. Success will be determined by achieving a 2-3x speedup in query performance and documenting best practices for efficient SQL query optimization.\n"
   ]
  },
  {
   "cell_type": "markdown",
   "id": "0beceb3d",
   "metadata": {},
   "source": [
    "----\n",
    "### Schedule\n",
    "Project Schedule\n",
    "\n",
    "Sunday, February 5 – Project Proposal Milestone Due\n",
    "\n",
    "Submit project proposal, finalize scope, and set up the GitHub repository.\n",
    "\n",
    "**Week of February 5 - February 11**\n",
    "\n",
    "\n",
    "**Week of February 12 - February 18**\n",
    "\n",
    "- Run baseline queries on a large dataset and measure performance.\n",
    "- Experiment with indexing strategies and compare results.\n",
    "\n",
    "**Week of February 19 - February 25**\n",
    "\n",
    "- Apply table partitioning and analyze its effect on query speed.\n",
    "- Document findings and prepare for Part 1 submission.\n",
    "\n",
    "**Sunday, February 26 – Project Part 1 Due**\n",
    "\n",
    "- Submit report with findings on indexing and partitioning performance.\n",
    "\n",
    "**Week of February 26 - March 3**\n",
    "- Research parallel query execution in PostgreSQL.\n",
    "- Test performance improvements using parallel execution.\n",
    "\n",
    "**Week of March 4 - March 10**\n",
    "- Compare performance of optimized SQL queries with cloud-based databases.\n",
    "- Evaluate hardware impact on query speed (local machine vs. cloud).\n",
    "\n",
    "**Week of March 11 - March 17**\n",
    "- Refine benchmarking experiments and document best practices.\n",
    "- Identify edge cases where optimization may not work.\n",
    "\n",
    "**Week of March 18 - March 24**\n",
    "- Start working on the final report.\n",
    "- Organize findings, charts, and data visualizations for presentation.\n",
    "\n",
    "**Week of March 25 - March 31**\n",
    "- Work on GitHub documentation, clean up SQL scripts, and finalize tutorials.\n",
    "\n",
    "**Week of April 1 - April 7**\n",
    "- Prepare slides and visuals for final presentation.\n",
    "- Review all project components for completeness.\n",
    "\n",
    "**Week of April 8 - April 14**\n",
    "- Final testing and last-minute refinements.\n",
    "- Submit final project report and presentation.\n",
    "\n",
    "**April 15 – Final Project Due**\n",
    "\n",
    "Submit all materials, including the final report, code, and benchmarks."
   ]
  },
  {
   "cell_type": "markdown",
   "id": "5107fca8",
   "metadata": {},
   "source": [
    "### Part 1 Software Exploration\n",
    "\n",
    "For my software exploration, I have chosen PostgreSQL, a powerful open-source relational database system. PostgreSQL is widely used for data storage, management, and retrieval, and it includes advanced features like indexing, partitioning, and parallel query execution, which are essential for optimizing performance on large datasets. I selected PostgreSQL because it is a popular choice for handling big data and analytics, and learning how to optimize its performance will be valuable for real-world applications. My exploration will focus on understanding how indexing and partitioning improve query execution times and whether PostgreSQL efficiently utilizes parallel processing. By the end of this step, I will document the setup process, test different optimization techniques, and create a guide for running and optimizing SQL queries.\n",
    "\n",
    "\n"
   ]
  },
  {
   "cell_type": "markdown",
   "id": "d5fea174",
   "metadata": {},
   "source": [
    "### Part 2 Benchmark and Optimization\n",
    "\n",
    "The problem I am trying to solve is slow SQL query execution on large datasets. As databases grow, queries that involve searching, filtering, and joining large tables can take a long time to run, leading to performance bottlenecks. My goal is to optimize these queries using indexing, partitioning, and parallel execution in PostgreSQL to improve speed and efficiency. I will benchmark query execution times before and after applying these optimizations to measure their impact. Success will be determined by achieving a significant reduction in query time (at least 2-4x speedup) and documenting the most effective optimization techniques."
   ]
  },
  {
   "cell_type": "code",
   "execution_count": null,
   "id": "bf9793c3",
   "metadata": {},
   "outputs": [],
   "source": []
  }
 ],
 "metadata": {
  "kernelspec": {
   "display_name": "Python 3 (ipykernel)",
   "language": "python",
   "name": "python3"
  },
  "language_info": {
   "codemirror_mode": {
    "name": "ipython",
    "version": 3
   },
   "file_extension": ".py",
   "mimetype": "text/x-python",
   "name": "python",
   "nbconvert_exporter": "python",
   "pygments_lexer": "ipython3",
   "version": "3.9.12"
  }
 },
 "nbformat": 4,
 "nbformat_minor": 5
}
